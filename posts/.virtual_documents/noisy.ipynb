





















































from math import factorial as f

def nck(n,k):
    if (n<k):
        return
    return f(n)/(f(k)*f(n-k))

# n is number of repeatations of each bit
# p is bit probability error when n=1
def bit_probability_error(n,p):
    min_bits = (n+1)//2
    prob_sum = 0
    for bits in range(min_bits,n+1):
        n_choose_k = nck(n,bits)
        prob_sum += n_choose_k * (p**bits) * ((1-p)**(n-bits))
    return prob_sum

rounded_off_error = round(bit_probability_error(3,0.2),3)
print(f"Reduced bit probability error is {rounded_off_error}")


import numpy as np
import matplotlib.pyplot as plt

n_range = np.arange(1,22,2)
rate = 1/n_range
n_range,rate


reduced_probability = [bit_probability_error(i,0.2) for i in n_range]
reduced_probability = np.array(reduced_probability)
reduced_probability


plt.plot(n_range,reduced_probability,marker='o')
plt.title("n vs bit probability error")
plt.xlabel("n")
plt.xticks(n_range)
plt.ylabel("bit probability error")
plt.show()





from scipy.interpolate import interp1d

interp = interp1d(rate, reduced_probability, kind='cubic')
fine_rate = np.linspace(rate.min(), rate.max(), 5000)
smooth_reduced_probability = interp(fine_rate)
plt.figure(figsize=(8, 6))
plt.plot(fine_rate, smooth_reduced_probability, color='b')
plt.scatter(rate, reduced_probability, color='r',  marker='o')
for i in range(8):
    plt.annotate(f"n={i+1}",(rate[i],reduced_probability[i]),textcoords="offset points",xytext=(-30,4),ha="left")
plt.xlabel('Rate')
plt.ylabel('Bit Probability error')
plt.title('Rate vs Bit Probability error')
plt.grid(True)
plt.show()





















def channel_capacity(p):
    return 1 - (p*np.log2(1/p) + (1-p)*np.log2(1/1-p))

def f1(p,c):
    x = np.linspace(c,1.0,10)
    m = p/(1-c)
    return m*(x-c)
    

def plot_achievable(c,p):
    x1 = np.linspace(c,1.0,10)
    x2 = np.linspace(0,c,10)
    y1 = f1(0.2,c)
    y2 = np.zeros(x2.shape)
    plt.plot(x2,y2,color="orange")
    plt.plot(x1,y1,color="orange")
    plt.xlabel("Rate")
    plt.ylabel("Bit Probability error")
    plt.title('Rate vs Bit Probability error')
    x = np.concatenate((x2,x1))
    y = np.concatenate((y2,y1))
    plt.fill_between(x, y, max(y), where=(y <= max(y)), color='blue', alpha=0.3,label="Achievable")
    plt.fill_between(x1, y1, color='red', alpha=0.3, label="Not-Achievable")
    plt.scatter(c, 0, color='black', label='Channel-Capacity',s=30)
    plt.legend()
    plt.show()
c = channel_capacity(0.2)
plot_achievable(c,0.2)



