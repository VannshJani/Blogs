

















import graphviz

graph = graphviz.Graph(graph_attr={'rankdir': 'LR'})

with graph.subgraph() as s:
    s.node('x')
    s.node('u=3xy',shape = 'rectangle')
    s.node('v=sin(u)',shape = 'rectangle')
    s.node('z=v+(x^2)',shape = 'rectangle')
    s.node('J=log(z)',shape = 'rectangle')
    s.node('output')


graph.node('y')

graph.edge('x', 'u=3xy', dir='forward')
graph.edge('y', 'u=3xy', dir='forward')
graph.edge('u=3xy', 'v=sin(u)', dir='forward')
graph.edge('v=sin(u)', 'z=v+(x^2)', dir='forward')
graph.edge('z=v+(x^2)', 'J=log(z)', dir='forward')
graph.edge('J=log(z)','output',dir='forward')
graph.edge('x', 'z=v+(x^2)', dir='forward')


graph








graph = graphviz.Graph(graph_attr={'rankdir': 'LR'})

with graph.subgraph() as s:
    s.node('x')
    s.node('u=3xy',shape = 'rectangle')
    s.node('v=sin(u)',shape = 'rectangle')
    s.node('z=v+(x^2)',shape = 'rectangle')
    s.node('J=log(z)',shape = 'rectangle')
    s.node('output')


graph.node('y')

graph.edge('x', 'u=3xy', dir='forward',label='2',fontcolor='green')
graph.edge('y', 'u=3xy', dir='forward',label='3',fontcolor='green')
graph.edge('u=3xy', 'v=sin(u)', dir='forward',label='18',fontcolor='green')
graph.edge('v=sin(u)', 'z=v+(x^2)', dir='forward',label='-0.75',fontcolor='green')
graph.edge('x', 'z=v+(x^2)', dir='forward',label='2',fontcolor='green')
graph.edge('z=v+(x^2)', 'J=log(z)', dir='forward',label='3.249',fontcolor='green')
graph.edge('J=log(z)','output',dir='forward',label='1.178',fontcolor='green')



graph




















graph = graphviz.Graph(graph_attr={'rankdir': 'LR'})

with graph.subgraph() as s:
    s.node('x')
    s.node('u=3xy',shape = 'rectangle')
    s.node('v=sin(u)',shape = 'rectangle')
    s.node('z=v+(x^2)',shape = 'rectangle')
    s.node('J=log(z)',shape = 'rectangle')
    s.node('output')


graph.node('y')

graph.edge('x', 'u=3xy', dir='forward',label='2',fontcolor='green')
graph.edge('y', 'u=3xy', dir='forward',label='3',fontcolor='green')
graph.edge('u=3xy', 'v=sin(u)', dir='forward',label='18',fontcolor='green')
graph.edge('v=sin(u)', 'z=v+(x^2)', dir='forward',label='-0.75',fontcolor='green')
graph.edge('x', 'z=v+(x^2)', dir='forward',label='2',fontcolor='green')
graph.edge('z=v+(x^2)', 'J=log(z)', dir='forward',label='3.249',fontcolor='green')
graph.edge('J=log(z)', 'z=v+(x^2)', dir='forward',label='0.307',fontcolor='red')
graph.edge('J=log(z)','output',dir='forward',label='1.178',fontcolor='green')



graph





graph = graphviz.Graph(graph_attr={'rankdir': 'LR'})
with graph.subgraph() as s:
    s.node('x')
    s.node('u=3xy',shape = 'rectangle')
    s.node('v=sin(u)',shape = 'rectangle')
    s.node('z=v+(x^2)',shape = 'rectangle')
    s.node('J=log(z)',shape = 'rectangle')
    s.node('output')


graph.node('y')

graph.edge('x', 'u=3xy', dir='forward',label='2',fontcolor='green')
graph.edge('y', 'u=3xy', dir='forward',label='3',fontcolor='green')
graph.edge('u=3xy', 'v=sin(u)', dir='forward',label='18',fontcolor='green')
graph.edge('v=sin(u)', 'z=v+(x^2)', dir='forward',label='-0.75',fontcolor='green')
graph.edge('z=v+(x^2)','v=sin(u)', dir='forward',label='1',fontcolor='red')
graph.edge('x', 'z=v+(x^2)', dir='forward',label='2',fontcolor='green')
# graph.edge('z=v+(x^2)','x', dir='forward',label='25.0074',fontcolor='red')
graph.edge('z=v+(x^2)', 'J=log(z)', dir='forward',label='3.249',fontcolor='green')
graph.edge('J=log(z)', 'z=v+(x^2)', dir='forward',label='0.307',fontcolor='red')
graph.edge('J=log(z)','output',dir='forward',label='1.178',fontcolor='green')
graph.edge('v=sin(u)','u=3xy',dir='forward',label='0.66',fontcolor='red')



graph




















graph = graphviz.Graph(graph_attr={'rankdir': 'LR'})
graph.node('x')
graph.node('y')
graph.node('u=3xy',shape = 'rectangle')
graph.node('v=sin(u)',shape = 'rectangle')
graph.node('z=v+(x^2)',shape = 'rectangle')
graph.node('J=log(z)',shape = 'rectangle')
graph.node('output')

graph.edge('z=v+(x^2)','x', dir='forward',label='4',fontcolor='red')
graph.edge('y','u=3xy',dir='forward',label='3',fontcolor='green')
graph.edge('u=3xy','y',dir='forward',label='6',fontcolor='red',constraint='false')
graph.edge('x','u=3xy',dir='forward',label='2',fontcolor='green')
graph.edge('u=3xy','x',dir='forward',label='9',fontcolor='red',constraint='false')
graph.edge('u=3xy','v=sin(u)',dir='forward',label='18',fontcolor='green')
graph.edge('v=sin(u)','z=v+(x^2)',dir='forward',label='-0.75',fontcolor='green')
graph.edge('x','z=v+(x^2)',dir='forward',label='2',fontcolor='green')
graph.edge('z=v+(x^2)','J=log(z)',dir='forward',label='3.249',fontcolor='green')
graph.edge('J=log(z)','output',dir='forward',label='1.178',fontcolor='green')
graph.edge('z=v+(x^2)','v=sin(u)', dir='forward',label='1',fontcolor='red')
graph.edge('J=log(z)', 'z=v+(x^2)', dir='forward',label='0.307',fontcolor='red')
graph.edge('v=sin(u)','u=3xy',dir='forward',label='0.66',fontcolor='red')



graph





























class Pair:
    def __init__(self, val, der,var):
        self.val = val
        self.der = der
        self.var = var

    def __add__(self, other):
        if isinstance(other, Pair):
            return Pair(self.val + other.val, self.der + other.der,self.var)
        else:
            return Pair(self.val + other, self.der,self.var)

    def __sub__(self, other):
        if isinstance(other, Pair):
            return Pair(self.val - other.val, self.der - other.der,self.var)
        else:
            return Pair(self.val - other, self.der,self.var)

    def __mul__(self, other):
        if isinstance(other, Pair):
            return Pair(self.val * other.val,  other.val,self.var)
        else:
            return Pair(self.val * other, self.der * other,self.var)

    def __truediv__(self, other):
        if isinstance(other, Pair):
            return Pair(self.val / other.val, (self.der * other.val - self.val * other.der) / (other.val ** 2),self.var)
        else:
            return Pair(self.val / other, self.der / other,self.var)

    def sin(self):
        return Pair(np.sin(self.val), self.der * np.cos(self.val),self.var)

    def log(self):
        return Pair(np.log(self.val), self.der / self.val,self.var)

    def __pow__(self, power):
        return Pair(self.val ** power, power * self.val ** (power - 1) * self.der,self.var)

    def __repr__(self):
        return f"Pair of function value and derivative with respect to {self.var} is ({round(self.val,3)}, {round(self.der,2)})"

pairx = Pair(2,1,"x")
pairy = Pair(3,1,"y")

def forward_pass_x(pairx,fv):
    u = (pairx*fv)*3
    v = u.sin()
    z = v + pairx**2
    J = z.log()
    print(J)

def forward_pass_y(pairy,fv):
    u = (pairy*fv)*3
    v = u.sin()
    z = v + fv**2
    J = z.log()
    print(J)
    
forward_pass_x(pairx,3)
forward_pass_y(pairy,2)












import numpy as np
class Scalar:    
    def __init__(self, val):
        self.val = val
        self.grad = 0.
        self.backward = lambda: None
        
    def __repr__(self):
        return f"Value: {self.val}, Gradient: {self.grad}"
    
    def __add__(self, other):
        if isinstance(other,Scalar):
            result = Scalar(self.val + other.val)
            def backward():
                self.grad += result.grad
                other.grad += result.grad
                self.backward()
                other.backward()
            result.backward = backward
        else:
            result = Scalar(self.val+other)
            def backward():
                self.grad += result.grad
                self.backward()
            result.backward = backward
        return result

    def __mul__(self, other):
        if isinstance(other,Scalar):
            result = Scalar(self.val * other.val)
            def backward():
                self.grad += other.val * result.grad
                other.grad += self.val * result.grad
                self.backward()
                other.backward()
            result.backward = backward
        else:
            result = Scalar(self.val*other)
            def backward():
                self.grad += other * result.grad
                self.backward()
            result.backward = backward
        return result

    def sin(self):
        result = Scalar(np.sin(self.val))
        def backward():
            self.grad += np.cos(self.val)*result.grad
            self.backward()
        result.backward = backward
        return result
    def log(self):
        result = Scalar(np.log(self.val))
        def backward():
            self.grad += (1/(self.val))*result.grad
            self.backward()
        result.backward = backward
        return result
x = Scalar(2.0)
y = Scalar(3.0)
u = x*y*3
v = u.sin()
z = v + (x*x)
J = z.log()
J.grad = 1.
J.backward()
print("Rounding off the derivatives to two decimal places")
print("Derivative of J wrt x",round(x.grad,2))
print("Derivative of J wrt y",round(y.grad,2))





import torch

x = torch.tensor(2.0,requires_grad=True)
y = torch.tensor(3.0,requires_grad=True)

def J(x,y):
    u = 3*x*y
    v = torch.sin(u)
    z = v + x**2
    return torch.log(z),u,v,z
output,u,v,z = J(x,y)
print("derivative of output wrt u is",torch.autograd.grad(output,u,retain_graph=True)[0].item())
print("derivative of output wrt v is",torch.autograd.grad(output,v,retain_graph=True)[0].item())
print("derivative of output wrt z is",torch.autograd.grad(output,z,retain_graph=True)[0].item())
print()
print("output is",round(output.item(),3),"rounded off to three decimal places")
print("derivative of output wrt x is",round(torch.autograd.grad(output,x,retain_graph=True)[0].item(),2),"rounded off to two decimal places")
print("derivative of output wrt y is",round(torch.autograd.grad(output,y)[0].item(),2),"rounded off to two decimal places")









