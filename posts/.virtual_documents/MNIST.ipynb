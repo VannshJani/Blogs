








import numpy as np
import matplotlib.pyplot as plt
import torch
import torch.nn as nn
import torch.nn.functional as F
from torchvision.datasets import MNIST
from sklearn.model_selection import train_test_split
from torch.optim import Adam
from torch.autograd import Variable


# Download MNIST dataset
mnist_data = MNIST(root='./data', download=True)



# 60000 images of size 28x28
data = mnist_data.data.numpy()
data.shape


train_image,test_image,train_label,test_label = train_test_split(data, mnist_data.targets.numpy(), test_size=0.2, random_state=42)
train_image.shape, train_label.shape, test_image.shape, test_label.shape


sample_image = train_image[0]
plt.imshow(sample_image, cmap='gray')


print(train_label[12:17])
# 1 as label for digit 2 and 0 otherwise
train_label[train_label!=2] = 0
train_label[train_label==2] = 1
test_label[test_label!=2] = 0
test_label[test_label==2] = 1


# Convert to torch tensors
train_image = torch.from_numpy(train_image).long()
test_image = torch.from_numpy(test_image).long()
train_label = torch.from_numpy(train_label).float()
test_label = torch.from_numpy(test_label).float()
train_label[12:17] 


train_image = train_image.view(-1, 1,28,28).float()
test_image = test_image.view(-1,1,28,28).float()

train_image = train_image/255.
test_image = test_image/255.

train = torch.utils.data.TensorDataset(train_image,train_label)
test = torch.utils.data.TensorDataset(test_image,test_label)

BATCH_SIZE = 64
train_loader = torch.utils.data.DataLoader(train, batch_size = BATCH_SIZE, shuffle = False)
test_loader = torch.utils.data.DataLoader(test, batch_size = BATCH_SIZE, shuffle = False)


# Define the model
class cnn_Model(nn.Module):
    def __init__(self):
        super(cnn_Model, self).__init__()
        self.conv1 = nn.Conv2d(1, 6, 5, padding=2)
        self.pool = nn.MaxPool2d(2,stride=2)
        self.conv2 = nn.Conv2d(6, 16, 5, padding=0)
        self.R = nn.ReLU()
        self.fc1 = nn.Linear(400, 120)
        self.fc2 = nn.Linear(120, 84)
        self.fc3 = nn.Linear(84, 1)
        self.S = nn.Sigmoid()
        
    def forward(self, x):

        x = self.conv1(x)
        x = self.R(x)
        x = self.pool(x)

        x = self.conv2(x)
        x = self.R(x)
        x = self.pool(x)
        x = x.view(-1, 400)

        x = self.fc1(x)
        x = self.R(x)
        x = self.fc2(x)
        x = self.R(x)
        x = self.fc3(x)
        # x = self.S(x)
       

        return x.squeeze()
    


def accuracy(y_pred,y_true):
    y_pred = y_pred.detach().numpy()
    y_true = y_true.detach().numpy()
    y_pred[y_pred>=0.5] = 1
    y_pred[y_pred<0.5] = 0
    return y_pred,y_true

def fit(model, train_loader,learning_rate=0.001,random_seed=42):
    torch.manual_seed(random_seed)
    optimizer = Adam(model.parameters(),lr=learning_rate)
    error = nn.BCEWithLogitsLoss()
    EPOCHS = 5
    predictions = []
    # model.train()
    for epoch in range(EPOCHS):
        correct = 0
        for batch_idx, (X_batch, y_batch) in enumerate(train_loader):
            var_X_batch = Variable(X_batch).float()
            var_y_batch = Variable(y_batch)
            optimizer.zero_grad()
            output = model(var_X_batch)
            loss = error(output, var_y_batch)
            loss.backward()
            optimizer.step()

            y_pred,y_true = accuracy(output.data,var_y_batch)
            predictions.extend(y_pred)
            correct += (output.data == var_y_batch).sum()
            if batch_idx % 50 == 0:
                print('Epoch : {} [{}/{} ({:.0f}%)]\tLoss: {:.6f}\t Accuracy:{:.3f}%'.format(
                    epoch, batch_idx*len(X_batch), len(train_loader.dataset), 100.*batch_idx / len(train_loader), loss.data.item(), float(correct*100) / float(BATCH_SIZE*(batch_idx+1))))
                
def instantiate_and_train(train_loader,Model,random_seed=42):
    torch.manual_seed(random_seed)
    model = Model()
    fit(model,train_loader,random_seed=random_seed)
    



instantiate_and_train(train_loader,cnn_Model)


predictions = []
for idx, (images,labels) in enumerate(test_loader):
    outputs = cnn_Model()(images)
    y_pred,y_true = accuracy(outputs,labels)
    predictions.extend(y_pred)
predictions = np.array(predictions)
predictions.shape


fig,ax = plt.subplots(4,4,figsize=(10,10))
axes = ax.flatten()

for i in range(len(axes)):
    axes[i].imshow(test_image[i].reshape(28,28), cmap='gray')
    axes[i].set_xticks([])
    axes[i].set_yticks([])
    axes[i].set_title("Prediction: {}".format(predictions[i]))






