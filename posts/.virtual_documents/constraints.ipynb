


























import matplotlib.pyplot as plt
import numpy as np
from mpl_toolkits.mplot3d import Axes3D


x = np.linspace(-3, 3, 100)
y = 1-x
circle_radius = 1.0
circle_center = (0, 0)

fig, ax = plt.subplots()
ax.plot(x, y, label='constraint',color="blue")
circle = plt.Circle(circle_center, circle_radius, fill=False, color='red', label='objective function')
ax.add_patch(circle)
ax.set_xlim(-3, 3)
ax.set_ylim(-3, 3)

ax.set_xlabel('X-axis')
ax.set_ylabel('Y-axis')
ax.set_title('Plotting constraint and objective function')
ax.legend(loc="lower left")
ax.grid()
plt.show()



x = np.linspace(-3, 3, 100)
y = 1-x
circle_radius = 1/(2**0.5)
circle_center = (0, 0)

fig, ax = plt.subplots()
ax.plot(x, y, label='constraint',color="blue")
circle = plt.Circle(circle_center, circle_radius, fill=False, color='red', label='objective function')
ax.add_patch(circle)
ax.set_xlim(-3, 3)
ax.set_ylim(-3, 3)

ax.set_xlabel('X-axis')
ax.set_ylabel('Y-axis')
ax.set_title('Plotting constraint and objective function')
plt.arrow(0.5,0.5,0.8,0.8,color="blue",width=0.05,label="gradient(h)")
plt.arrow(0.5,0.5,0.65,0.65,color="red",width=0.04,label="gradient(f)")
ax.legend(loc="lower left")
ax.grid()
plt.show()






























def f(x, y):
    return x**2 + y**2

def h(x, y):
    return x + y - 1  

x = np.linspace(-2, 2, 400)
y = np.linspace(-2, 2, 400)
X, Y = np.meshgrid(x, y)
Z = f(X, Y)
plt.contour(X, Y, Z, levels=np.linspace(0, 4, 20), cmap='viridis')
plt.plot(x, 1 - x, label='Constraint: x + y = 1', color='red', linestyle='--')
plt.scatter(0, 0, color='green', marker='o', label='Minimum (without constraint)')
plt.scatter(0.5, 0.5, color='blue', marker='o', label='Minimum (with constraint)')
plt.xlabel('X')
plt.ylabel('Y')
plt.legend()
plt.title('Optimizing with Equality constraint')
plt.grid(True)
plt.show()






























x = np.linspace(-5, 7, 100)
y = 5-x
circle_radius = 1.0
circle_center = (0, 0)

fig, ax = plt.subplots()
ax.fill_between(x, y, max(y), where=(y <= max(y)), color='yellow', alpha=0.5, label='g<=0')
ax.plot(x, y, label='constraint',color="blue")
circle = plt.Circle(circle_center, circle_radius, fill=False, color='red', label='objective function')
ax.add_patch(circle)
ax.set_xlim(-5, 7)
ax.set_ylim(-5, 7)

ax.set_xlabel('X-axis')
ax.set_ylabel('Y-axis')
ax.set_title('Plotting constraint and objective function')
ax.legend(loc="lower left")
ax.grid()

plt.show()





x = np.linspace(-5, 7, 100)
y = 5-x
circle_radius = 12.5**0.5
circle_center = (0, 0)

fig, ax = plt.subplots()
ax.fill_between(x, y, max(y), where=(y <= max(y)), color='yellow', alpha=0.5, label='g<=0')
ax.plot(x, y, label='constraint',color="blue")
circle = plt.Circle(circle_center, circle_radius, fill=False, color='red', label='objective function')
ax.add_patch(circle)
ax.set_xlim(-5, 7)
ax.set_ylim(-5, 7)

ax.set_xlabel('X-axis')
ax.set_ylabel('Y-axis')
ax.set_title('Plotting constraint and objective function')
ax.legend(loc="lower left")
ax.grid()
plt.arrow(2.5,2.5,-2.1,-2.1,color="blue",width=0.05,label="gradient(h)")
plt.arrow(2.5,2.5,2.65,2.65,color="red",width=0.04,label="gradient(f)")
plt.show()

















































































