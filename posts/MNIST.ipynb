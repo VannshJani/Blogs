{
 "cells": [
  {
   "cell_type": "markdown",
   "metadata": {},
   "source": [
    "---\n",
    "title: \"MNIST (one vs REST) Classifier\"\n",
    "author: \"Vannsh Jani\"\n",
    "date: \"10/18/2023\"\n",
    "categories: [CNN,Classification]\n",
    "jupyter: python3\n",
    "---"
   ]
  },
  {
   "cell_type": "markdown",
   "metadata": {},
   "source": [
    "In this blog let's build a MNIST Classifier (one vs REST) where we will classify whether a given image is of the digit 2 or not."
   ]
  },
  {
   "cell_type": "markdown",
   "metadata": {},
   "source": [
    "Let's first import the necessary libraries"
   ]
  },
  {
   "cell_type": "code",
   "execution_count": 1,
   "metadata": {},
   "outputs": [],
   "source": [
    "import numpy as np\n",
    "import matplotlib.pyplot as plt\n",
    "import torch\n",
    "import torch.nn as nn\n",
    "import torch.nn.functional as F\n",
    "from torchvision.datasets import MNIST\n",
    "from sklearn.model_selection import train_test_split\n",
    "from torch.optim import Adam\n",
    "from torch.autograd import Variable"
   ]
  },
  {
   "cell_type": "code",
   "execution_count": 2,
   "metadata": {},
   "outputs": [],
   "source": [
    "# Download MNIST dataset\n",
    "mnist_data = MNIST(root='./data', download=True)\n"
   ]
  },
  {
   "cell_type": "code",
   "execution_count": 3,
   "metadata": {},
   "outputs": [
    {
     "data": {
      "text/plain": [
       "(60000, 28, 28)"
      ]
     },
     "execution_count": 3,
     "metadata": {},
     "output_type": "execute_result"
    }
   ],
   "source": [
    "# 60000 images of size 28x28\n",
    "data = mnist_data.data.numpy()\n",
    "data.shape"
   ]
  },
  {
   "cell_type": "code",
   "execution_count": 4,
   "metadata": {},
   "outputs": [
    {
     "data": {
      "text/plain": [
       "((48000, 28, 28), (48000,), (12000, 28, 28), (12000,))"
      ]
     },
     "execution_count": 4,
     "metadata": {},
     "output_type": "execute_result"
    }
   ],
   "source": [
    "train_image,test_image,train_label,test_label = train_test_split(data, mnist_data.targets.numpy(), test_size=0.2, random_state=42)\n",
    "train_image.shape, train_label.shape, test_image.shape, test_label.shape"
   ]
  },
  {
   "cell_type": "code",
   "execution_count": 5,
   "metadata": {},
   "outputs": [
    {
     "data": {
      "text/plain": [
       "<matplotlib.image.AxesImage at 0x294a76e90>"
      ]
     },
     "execution_count": 5,
     "metadata": {},
     "output_type": "execute_result"
    },
    {
     "data": {
      "image/png": "[encoded data removed]",
      "text/plain": [
       "<Figure size 640x480 with 1 Axes>"
      ]
     },
     "metadata": {},
     "output_type": "display_data"
    }
   ],
   "source": [
    "sample_image = train_image[0]\n",
    "plt.imshow(sample_image, cmap='gray')"
   ]
  },
  {
   "cell_type": "code",
   "execution_count": 6,
   "metadata": {},
   "outputs": [
    {
     "name": "stdout",
     "output_type": "stream",
     "text": [
      "[8 1 1 2 6]\n"
     ]
    },
    {
     "data": {
      "text/plain": [
       "tensor([0., 0., 0., 1., 0.])"
      ]
     },
     "execution_count": 6,
     "metadata": {},
     "output_type": "execute_result"
    }
   ],
   "source": [
    "print(train_label[12:17])\n",
    "# 1 as label for digit 2 and 0 otherwise\n",
    "train_label[train_label!=2] = 0\n",
    "train_label[train_label==2] = 1\n",
    "test_label[test_label!=2] = 0\n",
    "test_label[test_label==2] = 1\n",
    "\n",
    "\n",
    "# Convert to torch tensors\n",
    "train_image = torch.from_numpy(train_image).long()\n",
    "test_image = torch.from_numpy(test_image).long()\n",
    "train_label = torch.from_numpy(train_label).float()\n",
    "test_label = torch.from_numpy(test_label).float()\n",
    "train_label[12:17] "
   ]
  },
  {
   "cell_type": "code",
   "execution_count": 7,
   "metadata": {},
   "outputs": [],
   "source": [
    "train_image = train_image.view(-1, 1,28,28).float()\n",
    "test_image = test_image.view(-1,1,28,28).float()\n",
    "\n",
    "train_image = train_image/255.\n",
    "test_image = test_image/255.\n",
    "\n",
    "train = torch.utils.data.TensorDataset(train_image,train_label)\n",
    "test = torch.utils.data.TensorDataset(test_image,test_label)\n",
    "\n",
    "BATCH_SIZE = 64\n",
    "train_loader = torch.utils.data.DataLoader(train, batch_size = BATCH_SIZE, shuffle = False)\n",
    "test_loader = torch.utils.data.DataLoader(test, batch_size = BATCH_SIZE, shuffle = False)"
   ]
  },
  {
   "cell_type": "code",
   "execution_count": 8,
   "metadata": {},
   "outputs": [],
   "source": [
    "# Define the model\n",
    "class cnn_Model(nn.Module):\n",
    "    def __init__(self):\n",
    "        super(cnn_Model, self).__init__()\n",
    "        self.conv1 = nn.Conv2d(1, 6, 5, padding=2)\n",
    "        self.pool = nn.MaxPool2d(2,stride=2)\n",
    "        self.conv2 = nn.Conv2d(6, 16, 5, padding=0)\n",
    "        self.R = nn.ReLU()\n",
    "        self.fc1 = nn.Linear(400, 120)\n",
    "        self.fc2 = nn.Linear(120, 84)\n",
    "        self.fc3 = nn.Linear(84, 1)\n",
    "        self.S = nn.Sigmoid()\n",
    "        \n",
    "    def forward(self, x):\n",
    "\n",
    "        x = self.conv1(x)\n",
    "        x = self.R(x)\n",
    "        x = self.pool(x)\n",
    "\n",
    "        x = self.conv2(x)\n",
    "        x = self.R(x)\n",
    "        x = self.pool(x)\n",
    "        x = x.view(-1, 400)\n",
    "\n",
    "        x = self.fc1(x)\n",
    "        x = self.R(x)\n",
    "        x = self.fc2(x)\n",
    "        x = self.R(x)\n",
    "        x = self.fc3(x)\n",
    "        # x = self.S(x)\n",
    "       \n",
    "\n",
    "        return x.squeeze()\n",
    "    \n",
    "\n",
    "\n",
    "def accuracy(y_pred,y_true):\n",
    "    y_pred = y_pred.detach().numpy()\n",
    "    y_true = y_true.detach().numpy()\n",
    "    y_pred[y_pred>=0.5] = 1\n",
    "    y_pred[y_pred<0.5] = 0\n",
    "    return y_pred,y_true\n",
    "\n",
    "def fit(model, train_loader,learning_rate=0.001,random_seed=42):\n",
    "    torch.manual_seed(random_seed)\n",
    "    optimizer = Adam(model.parameters(),lr=learning_rate)\n",
    "    error = nn.BCEWithLogitsLoss()\n",
    "    EPOCHS = 5\n",
    "    predictions = []\n",
    "    # model.train()\n",
    "    for epoch in range(EPOCHS):\n",
    "        correct = 0\n",
    "        for batch_idx, (X_batch, y_batch) in enumerate(train_loader):\n",
    "            var_X_batch = Variable(X_batch).float()\n",
    "            var_y_batch = Variable(y_batch)\n",
    "            optimizer.zero_grad()\n",
    "            output = model(var_X_batch)\n",
    "            loss = error(output, var_y_batch)\n",
    "            loss.backward()\n",
    "            optimizer.step()\n",
    "\n",
    "            y_pred,y_true = accuracy(output.data,var_y_batch)\n",
    "            predictions.extend(y_pred)\n",
    "            correct += (output.data == var_y_batch).sum()\n",
    "            if batch_idx % 50 == 0:\n",
    "                print('Epoch : {} [{}/{} ({:.0f}%)]\\tLoss: {:.6f}\\t Accuracy:{:.3f}%'.format(\n",
    "                    epoch, batch_idx*len(X_batch), len(train_loader.dataset), 100.*batch_idx / len(train_loader), loss.data.item(), float(correct*100) / float(BATCH_SIZE*(batch_idx+1))))\n",
    "                \n",
    "def instantiate_and_train(train_loader,Model,random_seed=42):\n",
    "    torch.manual_seed(random_seed)\n",
    "    model = Model()\n",
    "    fit(model,train_loader,random_seed=random_seed)\n",
    "    \n"
   ]
  },
  {
   "cell_type": "code",
   "execution_count": 9,
   "metadata": {},
   "outputs": [
    {
     "name": "stdout",
     "output_type": "stream",
     "text": [
      "Epoch : 0 [0/48000 (0%)]\tLoss: 0.711395\t Accuracy:92.188%\n",
      "Epoch : 0 [3200/48000 (7%)]\tLoss: 0.320103\t Accuracy:89.951%\n",
      "Epoch : 0 [6400/48000 (13%)]\tLoss: 0.072405\t Accuracy:90.470%\n",
      "Epoch : 0 [9600/48000 (20%)]\tLoss: 0.037177\t Accuracy:92.643%\n",
      "Epoch : 0 [12800/48000 (27%)]\tLoss: 0.114377\t Accuracy:93.905%\n",
      "Epoch : 0 [16000/48000 (33%)]\tLoss: 0.013866\t Accuracy:94.746%\n",
      "Epoch : 0 [19200/48000 (40%)]\tLoss: 0.019222\t Accuracy:95.359%\n",
      "Epoch : 0 [22400/48000 (47%)]\tLoss: 0.003240\t Accuracy:95.873%\n",
      "Epoch : 0 [25600/48000 (53%)]\tLoss: 0.037296\t Accuracy:96.228%\n",
      "Epoch : 0 [28800/48000 (60%)]\tLoss: 0.054712\t Accuracy:96.504%\n",
      "Epoch : 0 [32000/48000 (67%)]\tLoss: 0.059329\t Accuracy:96.775%\n",
      "Epoch : 0 [35200/48000 (73%)]\tLoss: 0.007022\t Accuracy:97.008%\n",
      "Epoch : 0 [38400/48000 (80%)]\tLoss: 0.015875\t Accuracy:97.166%\n",
      "Epoch : 0 [41600/48000 (87%)]\tLoss: 0.054735\t Accuracy:97.312%\n",
      "Epoch : 0 [44800/48000 (93%)]\tLoss: 0.003340\t Accuracy:97.437%\n",
      "Epoch : 1 [0/48000 (0%)]\tLoss: 0.066569\t Accuracy:98.438%\n",
      "Epoch : 1 [3200/48000 (7%)]\tLoss: 0.006697\t Accuracy:98.836%\n",
      "Epoch : 1 [6400/48000 (13%)]\tLoss: 0.005530\t Accuracy:99.087%\n",
      "Epoch : 1 [9600/48000 (20%)]\tLoss: 0.082764\t Accuracy:99.214%\n",
      "Epoch : 1 [12800/48000 (27%)]\tLoss: 0.007963\t Accuracy:99.285%\n",
      "Epoch : 1 [16000/48000 (33%)]\tLoss: 0.001485\t Accuracy:99.247%\n",
      "Epoch : 1 [19200/48000 (40%)]\tLoss: 0.007370\t Accuracy:99.232%\n",
      "Epoch : 1 [22400/48000 (47%)]\tLoss: 0.000315\t Accuracy:99.270%\n",
      "Epoch : 1 [25600/48000 (53%)]\tLoss: 0.009400\t Accuracy:99.299%\n",
      "Epoch : 1 [28800/48000 (60%)]\tLoss: 0.012171\t Accuracy:99.321%\n",
      "Epoch : 1 [32000/48000 (67%)]\tLoss: 0.005416\t Accuracy:99.345%\n",
      "Epoch : 1 [35200/48000 (73%)]\tLoss: 0.000906\t Accuracy:99.373%\n",
      "Epoch : 1 [38400/48000 (80%)]\tLoss: 0.002171\t Accuracy:99.373%\n",
      "Epoch : 1 [41600/48000 (87%)]\tLoss: 0.081926\t Accuracy:99.357%\n",
      "Epoch : 1 [44800/48000 (93%)]\tLoss: 0.000962\t Accuracy:99.376%\n",
      "Epoch : 2 [0/48000 (0%)]\tLoss: 0.019608\t Accuracy:98.438%\n",
      "Epoch : 2 [3200/48000 (7%)]\tLoss: 0.003214\t Accuracy:99.112%\n",
      "Epoch : 2 [6400/48000 (13%)]\tLoss: 0.001873\t Accuracy:99.319%\n",
      "Epoch : 2 [9600/48000 (20%)]\tLoss: 0.093223\t Accuracy:99.452%\n",
      "Epoch : 2 [12800/48000 (27%)]\tLoss: 0.001541\t Accuracy:99.502%\n",
      "Epoch : 2 [16000/48000 (33%)]\tLoss: 0.000616\t Accuracy:99.508%\n",
      "Epoch : 2 [19200/48000 (40%)]\tLoss: 0.009107\t Accuracy:99.481%\n",
      "Epoch : 2 [22400/48000 (47%)]\tLoss: 0.000131\t Accuracy:99.533%\n",
      "Epoch : 2 [25600/48000 (53%)]\tLoss: 0.004520\t Accuracy:99.556%\n",
      "Epoch : 2 [28800/48000 (60%)]\tLoss: 0.003475\t Accuracy:99.553%\n",
      "Epoch : 2 [32000/48000 (67%)]\tLoss: 0.001568\t Accuracy:99.557%\n",
      "Epoch : 2 [35200/48000 (73%)]\tLoss: 0.000462\t Accuracy:99.577%\n",
      "Epoch : 2 [38400/48000 (80%)]\tLoss: 0.001937\t Accuracy:99.568%\n",
      "Epoch : 2 [41600/48000 (87%)]\tLoss: 0.062798\t Accuracy:99.568%\n",
      "Epoch : 2 [44800/48000 (93%)]\tLoss: 0.001069\t Accuracy:99.572%\n",
      "Epoch : 3 [0/48000 (0%)]\tLoss: 0.008862\t Accuracy:98.438%\n",
      "Epoch : 3 [3200/48000 (7%)]\tLoss: 0.003903\t Accuracy:99.449%\n",
      "Epoch : 3 [6400/48000 (13%)]\tLoss: 0.001003\t Accuracy:99.489%\n",
      "Epoch : 3 [9600/48000 (20%)]\tLoss: 0.070207\t Accuracy:99.607%\n",
      "Epoch : 3 [12800/48000 (27%)]\tLoss: 0.000268\t Accuracy:99.658%\n",
      "Epoch : 3 [16000/48000 (33%)]\tLoss: 0.000322\t Accuracy:99.664%\n",
      "Epoch : 3 [19200/48000 (40%)]\tLoss: 0.013567\t Accuracy:99.631%\n",
      "Epoch : 3 [22400/48000 (47%)]\tLoss: 0.000157\t Accuracy:99.631%\n",
      "Epoch : 3 [25600/48000 (53%)]\tLoss: 0.001247\t Accuracy:99.642%\n",
      "Epoch : 3 [28800/48000 (60%)]\tLoss: 0.001019\t Accuracy:99.636%\n",
      "Epoch : 3 [32000/48000 (67%)]\tLoss: 0.000877\t Accuracy:99.638%\n",
      "Epoch : 3 [35200/48000 (73%)]\tLoss: 0.000389\t Accuracy:99.654%\n",
      "Epoch : 3 [38400/48000 (80%)]\tLoss: 0.000376\t Accuracy:99.649%\n",
      "Epoch : 3 [41600/48000 (87%)]\tLoss: 0.052261\t Accuracy:99.647%\n",
      "Epoch : 3 [44800/48000 (93%)]\tLoss: 0.001428\t Accuracy:99.655%\n",
      "Epoch : 4 [0/48000 (0%)]\tLoss: 0.001804\t Accuracy:100.000%\n",
      "Epoch : 4 [3200/48000 (7%)]\tLoss: 0.004144\t Accuracy:99.632%\n",
      "Epoch : 4 [6400/48000 (13%)]\tLoss: 0.000248\t Accuracy:99.675%\n",
      "Epoch : 4 [9600/48000 (20%)]\tLoss: 0.056268\t Accuracy:99.741%\n",
      "Epoch : 4 [12800/48000 (27%)]\tLoss: 0.000263\t Accuracy:99.775%\n",
      "Epoch : 4 [16000/48000 (33%)]\tLoss: 0.000082\t Accuracy:99.795%\n",
      "Epoch : 4 [19200/48000 (40%)]\tLoss: 0.019946\t Accuracy:99.740%\n",
      "Epoch : 4 [22400/48000 (47%)]\tLoss: 0.000092\t Accuracy:99.742%\n",
      "Epoch : 4 [25600/48000 (53%)]\tLoss: 0.002394\t Accuracy:99.751%\n",
      "Epoch : 4 [28800/48000 (60%)]\tLoss: 0.000842\t Accuracy:99.747%\n",
      "Epoch : 4 [32000/48000 (67%)]\tLoss: 0.000388\t Accuracy:99.747%\n",
      "Epoch : 4 [35200/48000 (73%)]\tLoss: 0.000847\t Accuracy:99.762%\n",
      "Epoch : 4 [38400/48000 (80%)]\tLoss: 0.000160\t Accuracy:99.761%\n",
      "Epoch : 4 [41600/48000 (87%)]\tLoss: 0.032126\t Accuracy:99.762%\n",
      "Epoch : 4 [44800/48000 (93%)]\tLoss: 0.000399\t Accuracy:99.766%\n"
     ]
    }
   ],
   "source": [
    "instantiate_and_train(train_loader,cnn_Model)"
   ]
  },
  {
   "cell_type": "code",
   "execution_count": 10,
   "metadata": {},
   "outputs": [
    {
     "data": {
      "text/plain": [
       "(12000,)"
      ]
     },
     "execution_count": 10,
     "metadata": {},
     "output_type": "execute_result"
    }
   ],
   "source": [
    "predictions = []\n",
    "for idx, (images,labels) in enumerate(test_loader):\n",
    "    outputs = cnn_Model()(images)\n",
    "    y_pred,y_true = accuracy(outputs,labels)\n",
    "    predictions.extend(y_pred)\n",
    "predictions = np.array(predictions)\n",
    "predictions.shape"
   ]
  },
  {
   "cell_type": "code",
   "execution_count": 11,
   "metadata": {},
   "outputs": [
    {
     "data": {
      "image/png": "[encoded data removed]",
      "text/plain": [
       "<Figure size 1000x1000 with 16 Axes>"
      ]
     },
     "metadata": {},
     "output_type": "display_data"
    }
   ],
   "source": [
    "fig,ax = plt.subplots(4,4,figsize=(10,10))\n",
    "axes = ax.flatten()\n",
    "\n",
    "for i in range(len(axes)):\n",
    "    axes[i].imshow(test_image[i].reshape(28,28), cmap='gray')\n",
    "    axes[i].set_xticks([])\n",
    "    axes[i].set_yticks([])\n",
    "    axes[i].set_title(\"Prediction: {}\".format(predictions[i]))"
   ]
  },
  {
   "cell_type": "code",
   "execution_count": null,
   "metadata": {},
   "outputs": [],
   "source": []
  },
  {
   "cell_type": "code",
   "execution_count": null,
   "metadata": {},
   "outputs": [],
   "source": []
  }
 ],
 "metadata": {
  "kernelspec": {
   "display_name": "Python 3 (ipykernel)",
   "language": "python",
   "name": "python3"
  },
  "language_info": {
   "codemirror_mode": {
    "name": "ipython",
    "version": 3
   },
   "file_extension": ".py",
   "mimetype": "text/x-python",
   "name": "python",
   "nbconvert_exporter": "python",
   "pygments_lexer": "ipython3",
   "version": "3.11.5"
  }
 },
 "nbformat": 4,
 "nbformat_minor": 4
}
