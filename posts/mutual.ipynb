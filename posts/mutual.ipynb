{
 "cells": [
  {
   "cell_type": "markdown",
   "id": "1f817640-47dc-4ea7-8165-2b67b8ead956",
   "metadata": {},
   "source": [
    "---\n",
    "title: \"Mutual Information\"\n",
    "author: \"Vannsh Jani\"\n",
    "date: \"10/16/2023\"\n",
    "format: \n",
    "  html:\n",
    "    code-fold: true\n",
    "jupyter: python3\n",
    "---"
   ]
  },
  {
   "cell_type": "markdown",
   "id": "4584822d-1715-45fc-842b-d4dd3a2deae8",
   "metadata": {},
   "source": [
    "# Mutual Information"
   ]
  },
  {
   "cell_type": "markdown",
   "id": "ce8f77aa-a29f-4241-b4a6-7856b638227b",
   "metadata": {},
   "source": [
    "Mutual information is a feature utility metric that is used to measure associations between a feature and a target. It helps in finding out the features on which the target is most dependent on. Hence, we can narrow down the set of features/parameters we want to use to train a model reducing the training cost. Mutual information is similar to correlaton as it measures the relationship between two quantities. The advantage of mutual information is that it can detect any kind of relationship while correlation only detects linear relationships."
   ]
  },
  {
   "cell_type": "markdown",
   "id": "d06fa633-b0c5-446c-87c9-70a766f94f63",
   "metadata": {},
   "source": [
    "Mutual information derives relationships based on uncertainty. The mutual information (MI) between two quantities is a measure of the extent to which knowledge of one quantity reduces the uncertainty about the other."
   ]
  },
  {
   "cell_type": "markdown",
   "id": "93977965-f631-4ca1-a051-25da769403c2",
   "metadata": {},
   "source": [
    "### Calculating mutual information for discrete random variables"
   ]
  },
  {
   "cell_type": "markdown",
   "id": "ceaa636e-249b-4d26-ae56-0f736dedf1ae",
   "metadata": {},
   "source": [
    "If we denote mutual information by MI,"
   ]
  },
  {
   "cell_type": "markdown",
   "id": "405bc79f-f8e5-41f7-bd7c-2617cc83e018",
   "metadata": {},
   "source": [
    "$$\n",
    "\\text{MI}=\\hspace{0.1cm} \\sum_{x,y} p(\\text x,\\text y)\\log(\\frac{p(\\text x,\\text y)}{p(\\text x)p(\\text y)}), \\quad \\text{where } p(\\text x,\\text y) \\text{ is the joint probability of occurance of x and y and, } p(\\text x) \\text{ is the marginal probability of x.}\n",
    "$$"
   ]
  },
  {
   "cell_type": "markdown",
   "id": "a4036356-58dc-4a1e-9aee-5feb9bba2e30",
   "metadata": {},
   "source": [
    "Clearly from the above formula we can see that if $\\text{x}$ and $\\text{y}$ are independent events, the joint probability of $\\text{x}$ and $\\text{y}$ $p(\\text x,\\text y)=\\hspace{0.1cm}p(\\text x)p(\\text y)$ and hence $\\text{MI}=0$."
   ]
  },
  {
   "cell_type": "code",
   "execution_count": 1,
   "id": "e7b627cb-10d2-490a-bfa5-7857fbc736bd",
   "metadata": {},
   "outputs": [
    {
     "name": "stdout",
     "output_type": "stream",
     "text": [
      "Mutual information of X and Y is 1.0986122886681096\n",
      "Mutual information of X and W is 0.6365141682948128\n",
      "Mutual information of X and Z is 0.0\n"
     ]
    }
   ],
   "source": [
    "import numpy as np\n",
    "\n",
    "def joint_prob(val_x,val_y,X,Y):\n",
    "    n = len(X)\n",
    "    count=0\n",
    "    for i in range(n):\n",
    "        if (X[i]==val_x and Y[i]==val_y):\n",
    "            count+=1\n",
    "    return count/n\n",
    "\n",
    "\n",
    "def mutual_info(X,Y):\n",
    "    n = len(X)\n",
    "    unique_x = list(set(X))\n",
    "    unique_y = list(set(Y))\n",
    "    prob_x = [X.count(x)/n for x in unique_x]\n",
    "    prob_y = [Y.count(y)/n for y in unique_y]\n",
    "    MI=0\n",
    "    for i in range(len(unique_x)):\n",
    "        for j in range(len(unique_y)):\n",
    "            px = prob_x[i]\n",
    "            py = prob_y[j]\n",
    "            jointp = joint_prob(unique_x[i],unique_y[j],X,Y)\n",
    "            if jointp==0:\n",
    "                continue\n",
    "            else:\n",
    "                MI += jointp * np.log(jointp/(px*py))\n",
    "\n",
    "    return MI\n",
    "\n",
    "\n",
    "X = [\"A\",\"B\",\"C\",\"A\",\"B\",\"C\"]\n",
    "Y = [\"A\",\"B\",\"C\",\"A\",\"B\",\"C\"]\n",
    "Z = [\"A\",\"A\",\"A\",\"A\",\"A\",\"A\"]\n",
    "W = [\"A\",\"A\",\"C\",\"A\",\"A\",\"C\"]\n",
    "print(f\"Mutual information of X and Y is {mutual_info(X,Y)}\") \n",
    "print(f\"Mutual information of X and W is {mutual_info(X,W)}\")\n",
    "print(f\"Mutual information of X and Z is {mutual_info(X,Z)}\") "
   ]
  },
  {
   "cell_type": "markdown",
   "id": "4b7c3559-84aa-4518-81fe-6af1ab7e25e6",
   "metadata": {},
   "source": [
    "let's veify our Mutual information score using the pre-defined function in sklearn.metrics"
   ]
  },
  {
   "cell_type": "code",
   "execution_count": 2,
   "id": "d4edfc66-9cbb-4b55-aa06-565ddac5ed0c",
   "metadata": {},
   "outputs": [
    {
     "name": "stdout",
     "output_type": "stream",
     "text": [
      "Mutual information of X and Y through sklearn is 1.0986122886681096\n",
      "Mutual information of X and W through sklearn is 0.636514168294813\n",
      "Mutual information of X and Z through sklearn is 0.0\n"
     ]
    }
   ],
   "source": [
    "from sklearn.metrics import mutual_info_score as MIS\n",
    "print(f\"Mutual information of X and Y through sklearn is {MIS(X,Y)}\") \n",
    "print(f\"Mutual information of X and W through sklearn is {MIS(X,W)}\") \n",
    "print(f\"Mutual information of X and Z through sklearn is {MIS(X,Z)}\") "
   ]
  },
  {
   "cell_type": "markdown",
   "id": "456031e7-2265-4d3b-90f7-c14c6d9fa9d2",
   "metadata": {},
   "source": [
    "No matter what the value in X, the value in Z is always \"A\", hence the two are independent and their mutual information score is 0."
   ]
  },
  {
   "cell_type": "markdown",
   "id": "374c0788-7ecb-489e-8d77-85c699be1d6e",
   "metadata": {},
   "source": [
    "### Calculating mutual information for continuous random variables"
   ]
  },
  {
   "cell_type": "markdown",
   "id": "eb42b1b2-90f2-441a-972e-45d54814bdfd",
   "metadata": {},
   "source": [
    "Here, by continuous random variables we are assuming that random variables are continuous if they take values having float data type. For continuous random variables, the value of MI is given as follows."
   ]
  },
  {
   "cell_type": "markdown",
   "id": "f35ddd8e-b77f-480e-b6d5-2a269339c292",
   "metadata": {},
   "source": [
    "$$\n",
    "\\text{MI(x,y)}=\\hspace{0.1cm} \\int_x \\int_y p(\\text x,\\text y)\\log(\\frac{p(\\text x,\\text y)}{p(\\text x)p(\\text y)})dy\\hspace{0.1cm}dx \n",
    "$$"
   ]
  },
  {
   "cell_type": "markdown",
   "id": "2085f033-1998-45e3-87dd-47cc1d786e1d",
   "metadata": {},
   "source": [
    "Here, $p(\\text x,\\text y)$ is the joint-probability distribution function of x and y, and $p(\\text x)$ is the marginal probability distribution function of x."
   ]
  },
  {
   "cell_type": "markdown",
   "id": "676d55de-f5d4-4ac6-bcad-9549c505803a",
   "metadata": {},
   "source": [
    "We may not always know the probability distribution of the data or the continuous random variables. Mutual information is also calculated as follows:"
   ]
  },
  {
   "cell_type": "markdown",
   "id": "875237a5-2ac8-414d-9559-506b4597ddee",
   "metadata": {},
   "source": [
    "$$\n",
    "\\text{MI(x,y)}=\\hspace{0.1cm} \\text{H(x)}+\\text{H(y)}-\\text{H(x,y)},\\quad \\text{where H(x) is the entropy of x and H(x,y) is the joint entropy of x and y.}\n",
    "$$"
   ]
  },
  {
   "cell_type": "markdown",
   "id": "6fcc710c-8788-4d3a-aa6b-fb94f6679ece",
   "metadata": {},
   "source": [
    "In this method, we discretize the continuous random variables with the help of bins. The number of bins to be used to discretize the random variable is a parameter."
   ]
  },
  {
   "cell_type": "markdown",
   "id": "9a8e449d-8d50-4a2a-9962-867c695e31a6",
   "metadata": {},
   "source": [
    "Let's better understand calculting the mutual information score of continuos random variables through an example. In the following code, we have taken a continuous random variable following the normal distribution (X), a random variable with all zero values (Y), a random variable Z such that Z = 2x, and finally a uniform random variable W."
   ]
  },
  {
   "cell_type": "code",
   "execution_count": 184,
   "id": "c4b0e215-bbbf-48b3-aa32-c0ac523de980",
   "metadata": {},
   "outputs": [
    {
     "name": "stdout",
     "output_type": "stream",
     "text": [
      "Taking number of bins as 10\n",
      "Mutual information of X and Y is:  0.0\n",
      "Mutual information of X and Z is:  2.8859175795054957\n",
      "Mutual information of X and W is:  1.6342884121176722\n"
     ]
    }
   ],
   "source": [
    "def entropy(X,bins):\n",
    "\n",
    "    binned = np.histogram(X,bins)[0]\n",
    "    prob = binned / np.sum(binned)\n",
    "    prob = prob[np.nonzero(prob)]\n",
    "    entropy = - np.sum(prob* np.log2(prob))\n",
    "    return(entropy)\n",
    "\n",
    "\n",
    "\n",
    "\n",
    "def joint_entropy(X,Y,bins):\n",
    "    \n",
    "    binned_dist = np.histogram2d(X,Y,bins)[0]\n",
    "    probs = binned_dist / np.sum(binned_dist)\n",
    "    probs = probs[np.nonzero(probs)]\n",
    "    joint_entropy = - np.sum(probs* np.log2(probs))\n",
    "    return(joint_entropy)\n",
    "\n",
    "\n",
    "\n",
    "\n",
    "def mutual_info(X,Y,bins):\n",
    "\n",
    "    H_X = entropy(X,bins)\n",
    "    H_Y = entropy(Y,bins)\n",
    "    H_XY = joint_entropy(X,Y,bins)\n",
    "    MI = H_X + H_Y - H_XY\n",
    "    return(MI)\n",
    "\n",
    "np.random.seed(12)\n",
    "X = np.random.normal(0,1,30)\n",
    "Y = np.zeros(30)\n",
    "Z = X*2\n",
    "W = np.linspace(1,10,30)\n",
    "\n",
    "print(\"Taking number of bins as 10\")\n",
    "print(\"Mutual information of X and Y is: \",mutual_info(X,Y,10))\n",
    "print(\"Mutual information of X and Z is: \",mutual_info(X,Z,10))\n",
    "print(\"Mutual information of X and W is: \",mutual_info(X,W,10))"
   ]
  },
  {
   "cell_type": "markdown",
   "id": "aa1e386b-4995-42dd-8e5a-fe5c15c75e4c",
   "metadata": {},
   "source": [
    "The mutual Information between X and Y is 0 as Y is the zero vector. X is most dependent with Z as expected. One of the limitations of this method is to choose the number of bins but keeping the number of bins same for different features will maintain consistency."
   ]
  },
  {
   "cell_type": "markdown",
   "id": "8a1f1785-9390-4ce8-873c-6e3a7b08e276",
   "metadata": {},
   "source": [
    "#### Estimating mutual information using sklearn"
   ]
  },
  {
   "cell_type": "markdown",
   "id": "a64e815b-39b0-4080-97f1-740fd57e189c",
   "metadata": {},
   "source": [
    "Let's take an example where the target vector (W) is given by:"
   ]
  },
  {
   "cell_type": "markdown",
   "id": "df8753d2-5258-4355-94de-8494968e5e2f",
   "metadata": {},
   "source": [
    "$$\n",
    "\\text{W}=\\hspace{0.1cm}\\alpha\\log(\\text x) + \\beta \\text{y}^2\n",
    "$$"
   ]
  },
  {
   "cell_type": "markdown",
   "id": "1d5e0a95-4b58-4e1b-9663-dfd5cc433aa8",
   "metadata": {},
   "source": [
    "Here, $\\alpha$ and $\\beta$ are parameters. $\\text{x and y}$ are continuous random variables following uniform distribution."
   ]
  },
  {
   "cell_type": "code",
   "execution_count": 9,
   "id": "15a4dc17-8638-443c-becd-3abf5a5c18d1",
   "metadata": {},
   "outputs": [
    {
     "name": "stdin",
     "output_type": "stream",
     "text": [
      "alpha:  1\n",
      "beta :  0\n"
     ]
    },
    {
     "data": {
      "image/png": "[encoded data removed]",
      "text/plain": [
       "<Figure size 640x480 with 1 Axes>"
      ]
     },
     "metadata": {},
     "output_type": "display_data"
    },
    {
     "data": {
      "image/png": "[encoded data removed]",
      "text/plain": [
       "<Figure size 640x480 with 1 Axes>"
      ]
     },
     "metadata": {},
     "output_type": "display_data"
    }
   ],
   "source": [
    "import numpy as np\n",
    "import matplotlib.pyplot as plt\n",
    "\n",
    "np.random.seed(42)\n",
    "noise = np.random.normal(0,1,30)\n",
    "\n",
    "alpha = int(input(\"alpha: \"))\n",
    "beta  = int(input(\"beta : \"))\n",
    "\n",
    "x = np.random.uniform(1,10,30)\n",
    "y = np.random.uniform(1,10,30)\n",
    "X = alpha*(np.log(x))\n",
    "Y = beta*(y**2 )\n",
    "W = X+Y+noise \n",
    "\n",
    "plt.scatter(x, X, label='alog(x)')\n",
    "plt.title(\"Dependencies of Target with features individually\")\n",
    "plt.xlabel(\"Feature-1\")\n",
    "plt.ylabel(\"Target\")\n",
    "plt.show()\n",
    "\n",
    "plt.scatter(y, Y, label='by^0.5', color='orange')\n",
    "plt.xlabel(\"Feature-2\")\n",
    "plt.ylabel(\"Target\")\n",
    "plt.show()\n"
   ]
  },
  {
   "cell_type": "code",
   "execution_count": 4,
   "id": "a5831afd-c5ab-48c4-9299-c9e306e646d8",
   "metadata": {},
   "outputs": [
    {
     "name": "stdout",
     "output_type": "stream",
     "text": [
      "MI score of W and x is 0.1342259837428359\n",
      "MI score of W and y is 0\n"
     ]
    }
   ],
   "source": [
    "from sklearn.feature_selection import mutual_info_regression as MIR\n",
    "print(f\"MI score of W and x is {MIR(X.reshape(-1,1),W)[0]}\")\n",
    "print(f\"MI score of W and y is {MIR(Y.reshape(-1,1),W)[0]}\")"
   ]
  },
  {
   "cell_type": "code",
   "execution_count": null,
   "id": "f20057bf-c9ae-4140-8323-1e15a48c2c4f",
   "metadata": {},
   "outputs": [],
   "source": []
  }
 ],
 "metadata": {
  "kernelspec": {
   "display_name": "Python 3 (ipykernel)",
   "language": "python",
   "name": "python3"
  },
  "language_info": {
   "codemirror_mode": {
    "name": "ipython",
    "version": 3
   },
   "file_extension": ".py",
   "mimetype": "text/x-python",
   "name": "python",
   "nbconvert_exporter": "python",
   "pygments_lexer": "ipython3",
   "version": "3.11.5"
  }
 },
 "nbformat": 4,
 "nbformat_minor": 5
}
